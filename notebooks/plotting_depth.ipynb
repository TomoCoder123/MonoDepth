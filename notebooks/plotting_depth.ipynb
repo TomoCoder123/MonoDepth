{
 "cells": [
  {
   "cell_type": "code",
   "execution_count": 39,
   "id": "35dee360",
   "metadata": {},
   "outputs": [],
   "source": [
    "import os\n",
    "from pathlib import Path\n",
    "import matplotlib.pyplot as plt\n",
    "import numpy as np\n",
    "import glob\n",
    "import struct"
   ]
  },
  {
   "cell_type": "code",
   "execution_count": null,
   "id": "144b4587",
   "metadata": {},
   "outputs": [],
   "source": [
    "def read_pfm(filename):\n",
    "    with Path(filename).open('rb') as pfm_file:\n",
    "\n",
    "        line1, line2, line3 = (pfm_file.readline().decode('latin-1').strip() for _ in range(3))\n",
    "        assert line1 in ('PF', 'Pf')\n",
    "        \n",
    "        channels = 3 if \"PF\" in line1 else 1\n",
    "        width, height = (int(s) for s in line2.split())\n",
    "        scale_endianess = float(line3)\n",
    "        bigendian = scale_endianess > 0\n",
    "        scale = abs(scale_endianess)\n",
    "\n",
    "        buffer = pfm_file.read()\n",
    "        samples = width * height * channels\n",
    "        print(samples)\n",
    "        assert len(buffer) == samples * 4\n",
    "        \n",
    "        fmt = f'{\"<>\"[bigendian]}{samples}f'\n",
    "        decoded = struct.unpack(fmt, buffer)\n",
    "        shape = (height, width, 3) if channels == 3 else (height, width)\n",
    "        return (np.reshape(decoded, shape)) * scale\n"
   ]
  },
  {
   "cell_type": "code",
   "execution_count": 43,
   "id": "5cd887f4",
   "metadata": {},
   "outputs": [
    {
     "name": "stdout",
     "output_type": "stream",
     "text": [
      "/home/shared/data_raw/LuSNAR/Moon_1/image0/depth\n",
      "/home/shared/data_raw/LuSNAR/Moon_1/image0/depth/1693274798817782272.pfm\n",
      "1048576\n"
     ]
    },
    {
     "data": {
      "image/png": "[encoded data removed]",
      "text/plain": [
       "<Figure size 640x480 with 1 Axes>"
      ]
     },
     "metadata": {},
     "output_type": "display_data"
    }
   ],
   "source": [
    "# Configuration ???where does this come from\n",
    "data_path = os.path.abspath(('/home/shared/data_raw/LuSNAR/Moon_1/image0/'))\n",
    "\n",
    "rgb_dir = Path(os.path.join(data_path,'rgb'))\n",
    "depth_dir = Path(os.path.join(data_path, 'depth'))\n",
    "# !!!Create but for the other datset.\n",
    "print(depth_dir)\n",
    "dataset = \"LuSNAR\"\n",
    "if dataset==\"LuSNAR\":\n",
    "    \n",
    "    root_dir =Path(data_path)\n",
    "    data_list = []\n",
    "    count = 0\n",
    "\n",
    "    for file in depth_dir.glob(\"*.pfm\"):   \n",
    "        added_path = f\"{file}\"\n",
    "        absolute_filepath = os.path.abspath((str(file)))\n",
    "        data_list.append(absolute_filepath)\n",
    "    print(data_list[0])\n",
    "    image = read_pfm(data_list[0])\n",
    "    plt.imshow(image)\n",
    "    plt.show()\n",
    "    \n",
    "    # print(image)\n",
    "    # print(\"plotting\")\n",
    "    # plt.plot([1,2,3,2,4])\n",
    "    # plt.show()\n"
   ]
  },
  {
   "cell_type": "code",
   "execution_count": null,
   "id": "0b6239f1",
   "metadata": {},
   "outputs": [],
   "source": []
  },
  {
   "cell_type": "code",
   "execution_count": null,
   "id": "20e76c1c",
   "metadata": {},
   "outputs": [],
   "source": []
  }
 ],
 "metadata": {
  "kernelspec": {
   "display_name": "lac",
   "language": "python",
   "name": "python3"
  },
  "language_info": {
   "codemirror_mode": {
    "name": "ipython",
    "version": 3
   },
   "file_extension": ".py",
   "mimetype": "text/x-python",
   "name": "python",
   "nbconvert_exporter": "python",
   "pygments_lexer": "ipython3",
   "version": "3.10.16"
  }
 },
 "nbformat": 4,
 "nbformat_minor": 5
}
